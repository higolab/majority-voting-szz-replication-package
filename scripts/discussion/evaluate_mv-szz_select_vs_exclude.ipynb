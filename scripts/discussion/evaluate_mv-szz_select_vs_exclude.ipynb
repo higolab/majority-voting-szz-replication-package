{
 "cells": [
  {
   "cell_type": "code",
   "execution_count": null,
   "id": "da747089",
   "metadata": {},
   "outputs": [],
   "source": [
    "from pathlib import Path\n",
    "from dataclasses import dataclass\n",
    "import json\n",
    "from typing import List, Dict, Tuple, Set\n",
    "\n",
    "# ---------- Data structure ----------\n",
    "@dataclass(frozen=True)\n",
    "class BugFixInducingPair:\n",
    "    repo_name: str\n",
    "    fix_commit_hash: str\n",
    "    inducing_commit_hash: str\n",
    "\n",
    "# ---------- TP / FP counting ----------\n",
    "def get_tp_fp(file_json: List[Dict]) -> Tuple[Set[BugFixInducingPair],\n",
    "                                              Set[BugFixInducingPair]]:\n",
    "    \"\"\"\n",
    "    Return unique TP and FP pairs for a parsed JSON list.\n",
    "    Duplicate inducing hashes for the same fix commit are ignored.\n",
    "    \"\"\"\n",
    "    tp: Set[BugFixInducingPair] = set()\n",
    "    fp: Set[BugFixInducingPair] = set()\n",
    "\n",
    "    for obj in file_json:\n",
    "        repo = obj[\"repo_name\"]\n",
    "        fix  = obj[\"fix_commit_hash\"]\n",
    "        oracle = set(obj[\"bug_commit_hash\"])\n",
    "        preds  = obj.get(\"inducing_commit_hash\", [])\n",
    "\n",
    "        pred_hashes = {p[\"commit_hash\"] for p in preds}   # de-duplicate\n",
    "\n",
    "        for h in pred_hashes:\n",
    "            pair = BugFixInducingPair(repo, fix, h)\n",
    "            (tp if h in oracle else fp).add(pair)\n",
    "\n",
    "    return tp, fp\n",
    "\n",
    "# ---------- Metric helpers ----------\n",
    "def get_scores(tp: int, fp: int, fn: int) -> Tuple[float, float, float]:\n",
    "    precision = tp / (tp + fp) if (tp + fp) else 0.0\n",
    "    recall    = tp / (tp + fn) if (tp + fn) else 0.0\n",
    "    f1        = (2 * precision * recall) / (precision + recall) if (precision + recall) else 0.0\n",
    "    return precision, recall, f1\n",
    "\n",
    "# ----------------------- Comparison helper -----------------------\n",
    "def compare_select_exclude(select_path: Path, exclude_path: Path) -> None:\n",
    "    \"\"\"\n",
    "    Print TP, FP, Precision, Recall, F1 for the *selected* and *excluded*\n",
    "    subsets, and show the differences computed AFTER rounding to 3 d.p.\n",
    "    \"\"\"\n",
    "    # ---------- helper ----------\n",
    "    def _load_counts(p: Path) -> Tuple[int, int, int]:\n",
    "        with p.open(encoding=\"utf-8\") as f:\n",
    "            data = json.load(f)\n",
    "        tp_set, fp_set = get_tp_fp(data)\n",
    "        tp, fp = len(tp_set), len(fp_set)\n",
    "        fn = sum(len(obj[\"bug_commit_hash\"]) for obj in data) - tp\n",
    "        return tp, fp, fn\n",
    "\n",
    "    # ---------- counts ----------\n",
    "    tp_sel, fp_sel, fn_sel = _load_counts(select_path)\n",
    "    tp_exc, fp_exc, fn_exc = _load_counts(exclude_path)\n",
    "\n",
    "    # ---------- metrics (rounded first) ----------\n",
    "    prec_sel, rec_sel, f1_sel = (round(x, 3) for x in get_scores(tp_sel, fp_sel, fn_sel))\n",
    "    prec_exc, rec_exc, f1_exc = (round(x, 3) for x in get_scores(tp_exc, fp_exc, fn_exc))\n",
    "\n",
    "    # ---------- output ----------\n",
    "    print(f\"=== {select_path.stem.replace('_mv_select','')} ===\")\n",
    "    print(\"            SELECTED      EXCLUDED      Δ(B−A)\")\n",
    "    print(f\"TP        {tp_sel:7d}   {tp_exc:7d}   {tp_exc - tp_sel:+7d}\")\n",
    "    print(f\"FP        {fp_sel:7d}   {fp_exc:7d}   {fp_exc - fp_sel:+7d}\")\n",
    "    print(f\"Precision {prec_sel:7.3f}   {prec_exc:7.3f}   {prec_exc - prec_sel:+7.3f}\")\n",
    "    print(f\"Recall    {rec_sel:7.3f}   {rec_exc:7.3f}   {rec_exc - rec_sel:+7.3f}\")\n",
    "    print(f\"F1        {f1_sel:7.3f}   {f1_exc:7.3f}   {f1_exc - f1_sel:+7.3f}\\n\")\n"
   ]
  },
  {
   "cell_type": "markdown",
   "id": "306410b4",
   "metadata": {},
   "source": [
    "## 1. Developer-Informed Oracle"
   ]
  },
  {
   "cell_type": "code",
   "execution_count": 6,
   "id": "21057595",
   "metadata": {},
   "outputs": [
    {
     "name": "stdout",
     "output_type": "stream",
     "text": [
      "=== dio_bic_conf_4token ===\n",
      "            SELECTED      EXCLUDED      Δ(B−A)\n",
      "TP             44        44        +0\n",
      "FP             30        30        +0\n",
      "Precision   0.595     0.595    +0.000\n",
      "Recall      0.579     0.579    +0.000\n",
      "F1          0.587     0.587    +0.000\n",
      "\n",
      "=== dio_bic_conf_5token ===\n",
      "            SELECTED      EXCLUDED      Δ(B−A)\n",
      "TP             43        43        +0\n",
      "FP             32        30        -2\n",
      "Precision   0.573     0.589    +0.016\n",
      "Recall      0.566     0.566    +0.000\n",
      "F1          0.570     0.577    +0.007\n",
      "\n"
     ]
    }
   ],
   "source": [
    "# ----------------------- File pairs -----------------------\n",
    "BASE_DIR = Path().resolve().parent.parent\n",
    "\n",
    "PAIRS_DIO = [\n",
    "    (\n",
    "        BASE_DIR / \"dataset/pyszz_v2/json-output-raw/discussion/developer-informed-oracle/dio_bic_conf_4token_mv_select.json\",\n",
    "        BASE_DIR / \"dataset/pyszz_v2/json-output-raw/discussion/developer-informed-oracle/dio_bic_conf_4token_mv_exclude.json\",\n",
    "    ),\n",
    "    (\n",
    "        BASE_DIR / \"dataset/pyszz_v2/json-output-raw/discussion/developer-informed-oracle/dio_bic_conf_5token_mv_select.json\",\n",
    "        BASE_DIR / \"dataset/pyszz_v2/json-output-raw/discussion/developer-informed-oracle/dio_bic_conf_5token_mv_exclude.json\",\n",
    "    ),\n",
    "]\n",
    "\n",
    "# ----------------------- Run comparison -----------------------\n",
    "for sel, exc in PAIRS_DIO:\n",
    "    if not sel.is_file() or not exc.is_file():\n",
    "        print(f\"[WARN] Missing pair:\\n  {sel}\\n  {exc}\\n\")\n",
    "        continue\n",
    "    compare_select_exclude(sel, exc)\n"
   ]
  },
  {
   "cell_type": "markdown",
   "id": "85a009b6",
   "metadata": {},
   "source": [
    "## 2. Defects4j"
   ]
  },
  {
   "cell_type": "code",
   "execution_count": 7,
   "id": "10b233db",
   "metadata": {},
   "outputs": [
    {
     "name": "stdout",
     "output_type": "stream",
     "text": [
      "=== d4j_bic_conf_4token ===\n",
      "            SELECTED      EXCLUDED      Δ(B−A)\n",
      "TP             74        68        -6\n",
      "FP             61        52        -9\n",
      "Precision   0.548     0.567    +0.019\n",
      "Recall      0.569     0.523    -0.046\n",
      "F1          0.558     0.544    -0.014\n",
      "\n",
      "=== d4j_bic_conf_5token ===\n",
      "            SELECTED      EXCLUDED      Δ(B−A)\n",
      "TP             75        70        -5\n",
      "FP             60        51        -9\n",
      "Precision   0.556     0.579    +0.023\n",
      "Recall      0.577     0.538    -0.039\n",
      "F1          0.566     0.558    -0.008\n",
      "\n"
     ]
    }
   ],
   "source": [
    "# ----------------------- File pairs -----------------------\n",
    "BASE_DIR = Path().resolve().parent.parent\n",
    "\n",
    "PAIRS_DIO = [\n",
    "    (\n",
    "        BASE_DIR / \"dataset/pyszz_v2/json-output-raw/discussion/defects4j/d4j_bic_conf_4token_mv_select.json\",\n",
    "        BASE_DIR / \"dataset/pyszz_v2/json-output-raw/discussion/defects4j/d4j_bic_conf_4token_mv_exclude.json\",\n",
    "    ),\n",
    "    (\n",
    "        BASE_DIR / \"dataset/pyszz_v2/json-output-raw/discussion/defects4j/d4j_bic_conf_5token_mv_select.json\",\n",
    "        BASE_DIR / \"dataset/pyszz_v2/json-output-raw/discussion/defects4j/d4j_bic_conf_5token_mv_exclude.json\",\n",
    "    ),\n",
    "]\n",
    "\n",
    "# ----------------------- Run comparison -----------------------\n",
    "for sel, exc in PAIRS_DIO:\n",
    "    if not sel.is_file() or not exc.is_file():\n",
    "        print(f\"[WARN] Missing pair:\\n  {sel}\\n  {exc}\\n\")\n",
    "        continue\n",
    "    compare_select_exclude(sel, exc)\n"
   ]
  }
 ],
 "metadata": {
  "kernelspec": {
   "display_name": "Python 3",
   "language": "python",
   "name": "python3"
  },
  "language_info": {
   "codemirror_mode": {
    "name": "ipython",
    "version": 3
   },
   "file_extension": ".py",
   "mimetype": "text/x-python",
   "name": "python",
   "nbconvert_exporter": "python",
   "pygments_lexer": "ipython3",
   "version": "3.9.5"
  }
 },
 "nbformat": 4,
 "nbformat_minor": 5
}
