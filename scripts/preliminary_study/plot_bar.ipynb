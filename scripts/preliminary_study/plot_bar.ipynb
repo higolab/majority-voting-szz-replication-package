{
 "cells": [
  {
   "cell_type": "markdown",
   "id": "2c62ae14",
   "metadata": {},
   "source": [
    "# Bar-Chart Replication Notebook 📊\n",
    "\n",
    "This notebook reproduces the true-positive (TP) and false-positive (FP) bar charts\n",
    "used in our study.  \n",
    "Two datasets are processed:\n",
    "\n",
    "* **Developer-Informed Oracle** \n",
    "* **Defects4J**\n",
    "\n",
    "For each dataset we produce:\n",
    "\n",
    "* TP bar chart  \n",
    "* FP bar chart  \n",
    "\n",
    "All code and paths assume the default project layout shipped with the replication\n",
    "package. Adjust `BASE_DIR` if you place the notebook elsewhere.\n"
   ]
  },
  {
   "cell_type": "code",
   "execution_count": 1,
   "id": "3a5c86ca",
   "metadata": {},
   "outputs": [
    {
     "name": "stdout",
     "output_type": "stream",
     "text": [
      "BASE_DIR   : /local2/i-kondo/szz/majority-voting-szz-replication-package\n",
      "OUTPUT_DIR : /local2/i-kondo/szz/majority-voting-szz-replication-package/scripts/preliminary_study/bar_chart\n"
     ]
    }
   ],
   "source": [
    "from pathlib import Path\n",
    "\n",
    "# ------------------------------------------------------------------\n",
    "# Project root & I/O locations (edit BASE_DIR if needed)\n",
    "# ------------------------------------------------------------------\n",
    "BASE_DIR   = Path().resolve().parent.parent\n",
    "DATA_DIR   = BASE_DIR / \"dataset\" / \"pyszz_v2\" / \"json-output-raw\" / \"preliminary_study\"\n",
    "OUTPUT_DIR = BASE_DIR / \"scripts\" / \"preliminary_study\" / \"bar_chart\"\n",
    "OUTPUT_DIR.mkdir(parents=True, exist_ok=True)\n",
    "\n",
    "# ------------------------------------------------------------------\n",
    "# Dataset-specific JSON files\n",
    "# ------------------------------------------------------------------\n",
    "line_input_file_dio  = DATA_DIR / \"developer-informed-oracle\" / \"dio_bic_conf_original.json\"\n",
    "token_input_file_dio = DATA_DIR / \"developer-informed-oracle\" / \"dio_bic_conf_1token.json\"\n",
    "\n",
    "line_input_file_d4j  = DATA_DIR / \"defects4j\" / \"d4j_bic_conf_original.json\"\n",
    "token_input_file_d4j = DATA_DIR  / \"defects4j\" / \"d4j_bic_conf_1token.json\"\n",
    "\n",
    "print(\"BASE_DIR   :\", BASE_DIR)\n",
    "print(\"OUTPUT_DIR :\", OUTPUT_DIR)\n"
   ]
  },
  {
   "cell_type": "markdown",
   "id": "b44a3949",
   "metadata": {},
   "source": [
    "## Library Requirements\n",
    "\n",
    "The notebook relies on the following Python packages:\n",
    "\n",
    "* numpy  \n",
    "* matplotlib  \n",
    "\n",
    "Install them with:\n",
    "\n",
    "```bash\n",
    "pip install numpy matplotlib\n"
   ]
  },
  {
   "cell_type": "code",
   "execution_count": 2,
   "id": "8ba55105",
   "metadata": {},
   "outputs": [],
   "source": [
    "import os\n",
    "import json\n",
    "import numpy as np\n",
    "import matplotlib.pyplot as plt\n",
    "from collections import defaultdict\n",
    "from matplotlib.ticker import MaxNLocator          # added\n",
    "\n",
    "def _aggregate_tp_fp(\n",
    "    line_json_path: str,\n",
    "    token_json_path: str,\n",
    "    *,\n",
    "    fp_mode: bool = False,\n",
    "    out_prefix: str = \"./comparison\"\n",
    "):\n",
    "    # ---------- Load data ----------\n",
    "    with open(line_json_path, \"r\", encoding=\"utf-8\") as f:\n",
    "        data_line = json.load(f)\n",
    "    with open(token_json_path, \"r\", encoding=\"utf-8\") as f:\n",
    "        data_token = json.load(f)\n",
    "\n",
    "    line_dict  = {d[\"id\"]: d for d in data_line}\n",
    "    token_dict = {d[\"id\"]: d for d in data_token}\n",
    "\n",
    "    # ---------- Aggregate TP / FP ----------\n",
    "    line_by_x, token_by_x = defaultdict(list), defaultdict(list)\n",
    "    for _id, l_item in line_dict.items():\n",
    "        if _id not in token_dict:\n",
    "            continue                       # Skip IDs not present in both datasets\n",
    "        t_item = token_dict[_id]\n",
    "\n",
    "        bug_commits = set(t_item.get(\"bug_commit_hash\", []))\n",
    "\n",
    "        l_inducing = l_item.get(\"inducing_commit_hash\", [])\n",
    "        t_inducing = t_item.get(\"inducing_commit_hash\", [])\n",
    "\n",
    "        x_val = len(l_inducing)            # X-axis: number of deleted lines\n",
    "\n",
    "        l_set = {c[\"commit_hash\"] for c in l_inducing if c.get(\"commit_hash\")}\n",
    "        t_set = {c[\"commit_hash\"] for c in t_inducing if c.get(\"commit_hash\")}\n",
    "\n",
    "        if fp_mode:                        # FP (= false positives)\n",
    "            line_by_x[x_val].append(len(l_set - bug_commits))\n",
    "            token_by_x[x_val].append(len(t_set - bug_commits))\n",
    "        else:                              # TP (= true positives)\n",
    "            line_by_x[x_val].append(len(l_set & bug_commits))\n",
    "            token_by_x[x_val].append(len(t_set & bug_commits))\n",
    "\n",
    "    # ---------- Exclude categories with 0 deleted lines ----------\n",
    "    all_x = sorted(val for val in (set(line_by_x) | set(token_by_x)) if val > 0)\n",
    "    if not all_x:\n",
    "        print(\"No data (x>0) – skipping.\")\n",
    "        return\n",
    "\n",
    "    # ---------- Prepare data for plotting ----------\n",
    "    l_agg = [sum(line_by_x.get(x, []))   for x in all_x]\n",
    "    t_agg = [sum(token_by_x.get(x, []))  for x in all_x]\n",
    "\n",
    "    # ---------- Plot ----------\n",
    "    plt.figure(figsize=(10, 6))\n",
    "    x_pos = np.arange(len(all_x)) + 1      # Start from 1 instead of 0\n",
    "    bar_w = 0.4\n",
    "    plt.bar(x_pos - bar_w/2, l_agg, width=bar_w,\n",
    "            color=\"darkgreen\",  alpha=0.7, label=\"Line-level SZZ\")\n",
    "    plt.bar(x_pos + bar_w/2, t_agg, width=bar_w,\n",
    "            color=\"darkorange\", alpha=0.7, label=\"Token-level SZZ\")\n",
    "\n",
    "    plt.xticks(x_pos, all_x, fontsize=14, rotation=45)\n",
    "    plt.yticks(fontsize=14)\n",
    "    plt.xlabel(\"Deleted lines in defect-fixing commit\", fontsize=20)\n",
    "    plt.ylabel(\"Number of \" + (\"FPs\" if fp_mode else \"TPs\"), fontsize=20)\n",
    "    plt.legend(fontsize=16)\n",
    "    plt.grid(axis=\"y\", linestyle=\"--\", alpha=0.7)\n",
    "\n",
    "    plt.gca().yaxis.set_major_locator(MaxNLocator(integer=True))  # integer ticks\n",
    "\n",
    "    plt.tight_layout()\n",
    "    os.makedirs(os.path.dirname(out_prefix) or \".\", exist_ok=True)\n",
    "    suffix = \"fp\" if fp_mode else \"tp\"\n",
    "    plt.savefig(f\"{out_prefix}-{suffix}-bar-sum.png\")\n",
    "    plt.close()\n",
    "\n",
    "# Convenience wrappers\n",
    "def plot_line_token_comparison_bar_tp(line_json_path, token_json_path, out_prefix=\"./comparison_tp\"):\n",
    "    _aggregate_tp_fp(line_json_path, token_json_path, fp_mode=False, out_prefix=out_prefix)\n",
    "\n",
    "def plot_line_token_comparison_bar_fp(line_json_path, token_json_path, out_prefix=\"./comparison_fp\"):\n",
    "    _aggregate_tp_fp(line_json_path, token_json_path, fp_mode=True,  out_prefix=out_prefix)\n"
   ]
  },
  {
   "cell_type": "markdown",
   "id": "b6e012a4",
   "metadata": {},
   "source": [
    "## Generate Charts — Developer-informed oracle"
   ]
  },
  {
   "cell_type": "code",
   "execution_count": 5,
   "id": "40d7ccd2",
   "metadata": {},
   "outputs": [
    {
     "name": "stdout",
     "output_type": "stream",
     "text": [
      "✅ DIO charts saved to: /local2/i-kondo/szz/majority-voting-szz-replication-package/scripts/preliminary_study/bar_chart\n"
     ]
    }
   ],
   "source": [
    "# True positives\n",
    "plot_line_token_comparison_bar_tp(\n",
    "    line_input_file_dio,\n",
    "    token_input_file_dio,\n",
    "    out_prefix=str(OUTPUT_DIR / \"dio\")\n",
    ")\n",
    "\n",
    "# False positives\n",
    "plot_line_token_comparison_bar_fp(\n",
    "    line_input_file_dio,\n",
    "    token_input_file_dio,\n",
    "    out_prefix=str(OUTPUT_DIR / \"dio\")\n",
    ")\n",
    "\n",
    "print(\"✅ DIO charts saved to:\", OUTPUT_DIR)\n"
   ]
  },
  {
   "cell_type": "markdown",
   "id": "0bfe02c2",
   "metadata": {},
   "source": [
    "## Generate Charts — Defects4J Dataset"
   ]
  },
  {
   "cell_type": "code",
   "execution_count": 6,
   "id": "1ba12c32",
   "metadata": {},
   "outputs": [
    {
     "name": "stdout",
     "output_type": "stream",
     "text": [
      "✅ Defects4J charts saved to: /local2/i-kondo/szz/majority-voting-szz-replication-package/scripts/preliminary_study/bar_chart\n"
     ]
    }
   ],
   "source": [
    "# True positives\n",
    "plot_line_token_comparison_bar_tp(\n",
    "    line_input_file_d4j,\n",
    "    token_input_file_d4j,\n",
    "    out_prefix=str(OUTPUT_DIR / \"d4j\")\n",
    ")\n",
    "\n",
    "# False positives\n",
    "plot_line_token_comparison_bar_fp(\n",
    "    line_input_file_d4j,\n",
    "    token_input_file_d4j,\n",
    "    out_prefix=str(OUTPUT_DIR / \"d4j\")\n",
    ")\n",
    "\n",
    "print(\"✅ Defects4J charts saved to:\", OUTPUT_DIR)\n"
   ]
  }
 ],
 "metadata": {
  "kernelspec": {
   "display_name": "Python 3",
   "language": "python",
   "name": "python3"
  },
  "language_info": {
   "codemirror_mode": {
    "name": "ipython",
    "version": 3
   },
   "file_extension": ".py",
   "mimetype": "text/x-python",
   "name": "python",
   "nbconvert_exporter": "python",
   "pygments_lexer": "ipython3",
   "version": "3.9.5"
  }
 },
 "nbformat": 4,
 "nbformat_minor": 5
}
