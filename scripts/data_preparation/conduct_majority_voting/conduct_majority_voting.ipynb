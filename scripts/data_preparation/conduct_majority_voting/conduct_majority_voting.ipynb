{
 "cells": [
  {
   "cell_type": "markdown",
   "id": "cbd88e0e",
   "metadata": {},
   "source": [
    "# Majority Voting"
   ]
  },
  {
   "cell_type": "markdown",
   "id": "d402d2fe",
   "metadata": {},
   "source": [
    "# Imports & Function Definition"
   ]
  },
  {
   "cell_type": "code",
   "execution_count": 1,
   "id": "a9f75eda",
   "metadata": {},
   "outputs": [],
   "source": [
    "from pathlib import Path\n",
    "import json\n",
    "from collections import Counter\n",
    "from typing import List, Dict, Any\n",
    "\n",
    "def filter_inducing_commit_hashes(data: List[Dict[str, Any]]) -> List[Dict[str, Any]]:\n",
    "    \"\"\"\n",
    "    Keep only the most frequent commit_hash entries inside\n",
    "    each item's 'inducing_commit_hash' list.\n",
    "\n",
    "    Parameters\n",
    "    ----------\n",
    "    data : List[Dict]\n",
    "        Parsed JSON list.\n",
    "\n",
    "    Returns\n",
    "    -------\n",
    "    List[Dict]\n",
    "        Filtered data.\n",
    "    \"\"\"\n",
    "    result: List[Dict[str, Any]] = []\n",
    "    for entry in data:\n",
    "        hashes = entry.get(\"inducing_commit_hash\", [])\n",
    "        if not hashes:                    # no hashes → copy as-is\n",
    "            result.append(entry)\n",
    "            continue\n",
    "\n",
    "        counts = Counter(h[\"commit_hash\"] for h in hashes)\n",
    "        max_freq = max(counts.values())\n",
    "        majority = {h for h, c in counts.items() if c == max_freq}\n",
    "\n",
    "        new_entry = entry.copy()\n",
    "        new_entry[\"inducing_commit_hash\"] = [\n",
    "            h for h in hashes if h[\"commit_hash\"] in majority\n",
    "        ]\n",
    "        result.append(new_entry)\n",
    "    return result\n"
   ]
  },
  {
   "cell_type": "markdown",
   "id": "49edfcb4",
   "metadata": {},
   "source": [
    "# Execution + Save"
   ]
  },
  {
   "cell_type": "markdown",
   "id": "9dd70c31",
   "metadata": {},
   "source": [
    "## Developer-informed oracle"
   ]
  },
  {
   "cell_type": "markdown",
   "id": "a3de1920",
   "metadata": {},
   "source": [
    "### original: RQ2"
   ]
  },
  {
   "cell_type": "code",
   "execution_count": 2,
   "id": "7de547df",
   "metadata": {},
   "outputs": [
    {
     "name": "stdout",
     "output_type": "stream",
     "text": [
      "Input : /local2/i-kondo/szz/majority-voting-szz-replication-package/dataset/pyszz_v2/json-output-raw/rq1/developer-informed-oracle/dio_bic_conf_original.json\n",
      "Output: /local2/i-kondo/szz/majority-voting-szz-replication-package/dataset/pyszz_v2/json-output-raw/rq2/developer-informed-oracle/dio_bic_conf_original_mv.json\n",
      "Processed 76 entries → 76 entries\n",
      "✓ File saved successfully.\n"
     ]
    }
   ],
   "source": [
    "# ---------- 1. Paths ----------\n",
    "BASE_DIR = Path(\"../../../dataset/pyszz_v2/json-output-raw\")\n",
    "INPUT_FILE  = BASE_DIR / \"rq1\" / \"developer-informed-oracle\" / \"dio_bic_conf_original.json\"\n",
    "OUTPUT_FILE = BASE_DIR / \"rq2\" / \"developer-informed-oracle\" / \"dio_bic_conf_original_mv.json\"\n",
    "\n",
    "print(\"Input :\", INPUT_FILE.resolve())\n",
    "print(\"Output:\", OUTPUT_FILE.resolve())\n",
    "\n",
    "# ---------- 2. Load ----------\n",
    "with INPUT_FILE.open(encoding=\"utf-8\") as f:\n",
    "    data = json.load(f)\n",
    "\n",
    "# ---------- 3. Filter ----------\n",
    "filtered_data = filter_inducing_commit_hashes(data)\n",
    "print(f\"Processed {len(data):,} entries → {len(filtered_data):,} entries\")\n",
    "\n",
    "# ---------- 4. Save ----------\n",
    "OUTPUT_FILE.parent.mkdir(parents=True, exist_ok=True)\n",
    "with OUTPUT_FILE.open(\"w\", encoding=\"utf-8\", errors=\"backslashreplace\") as f:\n",
    "    json.dump(filtered_data, f, ensure_ascii=False, indent=2)\n",
    "\n",
    "print(\"✓ File saved successfully.\")"
   ]
  },
  {
   "cell_type": "markdown",
   "id": "3087accc",
   "metadata": {},
   "source": [
    "### 1token: RQ2"
   ]
  },
  {
   "cell_type": "code",
   "execution_count": 3,
   "id": "7b9a7588",
   "metadata": {},
   "outputs": [
    {
     "name": "stdout",
     "output_type": "stream",
     "text": [
      "Input : /local2/i-kondo/szz/majority-voting-szz-replication-package/dataset/pyszz_v2/json-output-raw/rq1/developer-informed-oracle/dio_bic_conf_1token.json\n",
      "Output: /local2/i-kondo/szz/majority-voting-szz-replication-package/dataset/pyszz_v2/json-output-raw/rq2/developer-informed-oracle/dio_bic_conf_1token_mv.json\n",
      "Processed 76 entries → 76 entries\n",
      "✓ File saved successfully.\n"
     ]
    }
   ],
   "source": [
    "# ---------- 1. Paths ----------\n",
    "BASE_DIR = Path(\"../../../dataset/pyszz_v2/json-output-raw\")\n",
    "INPUT_FILE  = BASE_DIR / \"rq1\" / \"developer-informed-oracle\" / \"dio_bic_conf_1token.json\"\n",
    "OUTPUT_FILE = BASE_DIR / \"rq2\" / \"developer-informed-oracle\" / \"dio_bic_conf_1token_mv.json\"\n",
    "\n",
    "print(\"Input :\", INPUT_FILE.resolve())\n",
    "print(\"Output:\", OUTPUT_FILE.resolve())\n",
    "\n",
    "# ---------- 2. Load ----------\n",
    "with INPUT_FILE.open(encoding=\"utf-8\") as f:\n",
    "    data = json.load(f)\n",
    "\n",
    "# ---------- 3. Filter ----------\n",
    "filtered_data = filter_inducing_commit_hashes(data)\n",
    "print(f\"Processed {len(data):,} entries → {len(filtered_data):,} entries\")\n",
    "\n",
    "# ---------- 4. Save ----------\n",
    "OUTPUT_FILE.parent.mkdir(parents=True, exist_ok=True)\n",
    "with OUTPUT_FILE.open(\"w\", encoding=\"utf-8\", errors=\"backslashreplace\") as f:\n",
    "    json.dump(filtered_data, f, ensure_ascii=False, indent=2)\n",
    "\n",
    "print(\"✓ File saved successfully.\")"
   ]
  },
  {
   "cell_type": "markdown",
   "id": "5c91d95c",
   "metadata": {},
   "source": [
    "### 2token: RQ2"
   ]
  },
  {
   "cell_type": "code",
   "execution_count": 4,
   "id": "45fff564",
   "metadata": {},
   "outputs": [
    {
     "name": "stdout",
     "output_type": "stream",
     "text": [
      "Input : /local2/i-kondo/szz/majority-voting-szz-replication-package/dataset/pyszz_v2/json-output-raw/rq1/developer-informed-oracle/dio_bic_conf_2token.json\n",
      "Output: /local2/i-kondo/szz/majority-voting-szz-replication-package/dataset/pyszz_v2/json-output-raw/rq2/developer-informed-oracle/dio_bic_conf_2token_mv.json\n",
      "Processed 76 entries → 76 entries\n",
      "✓ File saved successfully.\n"
     ]
    }
   ],
   "source": [
    "# ---------- 1. Paths ----------\n",
    "BASE_DIR = Path(\"../../../dataset/pyszz_v2/json-output-raw\")\n",
    "INPUT_FILE  = BASE_DIR / \"rq1\" / \"developer-informed-oracle\" / \"dio_bic_conf_2token.json\"\n",
    "OUTPUT_FILE = BASE_DIR / \"rq2\" / \"developer-informed-oracle\" / \"dio_bic_conf_2token_mv.json\"\n",
    "\n",
    "print(\"Input :\", INPUT_FILE.resolve())\n",
    "print(\"Output:\", OUTPUT_FILE.resolve())\n",
    "\n",
    "# ---------- 2. Load ----------\n",
    "with INPUT_FILE.open(encoding=\"utf-8\") as f:\n",
    "    data = json.load(f)\n",
    "\n",
    "# ---------- 3. Filter ----------\n",
    "filtered_data = filter_inducing_commit_hashes(data)\n",
    "print(f\"Processed {len(data):,} entries → {len(filtered_data):,} entries\")\n",
    "\n",
    "# ---------- 4. Save ----------\n",
    "OUTPUT_FILE.parent.mkdir(parents=True, exist_ok=True)\n",
    "with OUTPUT_FILE.open(\"w\", encoding=\"utf-8\", errors=\"backslashreplace\") as f:\n",
    "    json.dump(filtered_data, f, ensure_ascii=False, indent=2)\n",
    "\n",
    "print(\"✓ File saved successfully.\")"
   ]
  },
  {
   "cell_type": "markdown",
   "id": "a23348c0",
   "metadata": {},
   "source": [
    "### 3token: RQ2"
   ]
  },
  {
   "cell_type": "code",
   "execution_count": 5,
   "id": "7d8bd74c",
   "metadata": {},
   "outputs": [
    {
     "name": "stdout",
     "output_type": "stream",
     "text": [
      "Input : /local2/i-kondo/szz/majority-voting-szz-replication-package/dataset/pyszz_v2/json-output-raw/rq1/developer-informed-oracle/dio_bic_conf_3token.json\n",
      "Output: /local2/i-kondo/szz/majority-voting-szz-replication-package/dataset/pyszz_v2/json-output-raw/rq2/developer-informed-oracle/dio_bic_conf_3token_mv.json\n",
      "Processed 76 entries → 76 entries\n",
      "✓ File saved successfully.\n"
     ]
    }
   ],
   "source": [
    "# ---------- 1. Paths ----------\n",
    "BASE_DIR = Path(\"../../../dataset/pyszz_v2/json-output-raw\")\n",
    "INPUT_FILE  = BASE_DIR / \"rq1\" / \"developer-informed-oracle\" / \"dio_bic_conf_3token.json\"\n",
    "OUTPUT_FILE = BASE_DIR / \"rq2\" / \"developer-informed-oracle\" / \"dio_bic_conf_3token_mv.json\"\n",
    "\n",
    "print(\"Input :\", INPUT_FILE.resolve())\n",
    "print(\"Output:\", OUTPUT_FILE.resolve())\n",
    "\n",
    "# ---------- 2. Load ----------\n",
    "with INPUT_FILE.open(encoding=\"utf-8\") as f:\n",
    "    data = json.load(f)\n",
    "\n",
    "# ---------- 3. Filter ----------\n",
    "filtered_data = filter_inducing_commit_hashes(data)\n",
    "print(f\"Processed {len(data):,} entries → {len(filtered_data):,} entries\")\n",
    "\n",
    "# ---------- 4. Save ----------\n",
    "OUTPUT_FILE.parent.mkdir(parents=True, exist_ok=True)\n",
    "with OUTPUT_FILE.open(\"w\", encoding=\"utf-8\", errors=\"backslashreplace\") as f:\n",
    "    json.dump(filtered_data, f, ensure_ascii=False, indent=2)\n",
    "\n",
    "print(\"✓ File saved successfully.\")"
   ]
  },
  {
   "cell_type": "markdown",
   "id": "04532202",
   "metadata": {},
   "source": [
    "### 4token: RQ2, RQ3, Discussion"
   ]
  },
  {
   "cell_type": "code",
   "execution_count": 6,
   "id": "158aca9e",
   "metadata": {},
   "outputs": [
    {
     "name": "stdout",
     "output_type": "stream",
     "text": [
      "Input : /local2/i-kondo/szz/majority-voting-szz-replication-package/dataset/pyszz_v2/json-output-raw/rq1/developer-informed-oracle/dio_bic_conf_4token.json\n",
      "Output: /local2/i-kondo/szz/majority-voting-szz-replication-package/dataset/pyszz_v2/json-output-raw/rq2/developer-informed-oracle/dio_bic_conf_4token_mv.json\n",
      "Output: /local2/i-kondo/szz/majority-voting-szz-replication-package/dataset/pyszz_v2/json-output-raw/rq3/developer-informed-oracle/dio_bic_conf_4token_mv.json\n",
      "Output: /local2/i-kondo/szz/majority-voting-szz-replication-package/dataset/pyszz_v2/json-output-raw/discussion/developer-informed-oracle/dio_bic_conf_4token_mv_select.json\n",
      "Processed 76 entries → 76 entries\n"
     ]
    },
    {
     "name": "stdout",
     "output_type": "stream",
     "text": [
      "✓ File saved successfully.\n"
     ]
    }
   ],
   "source": [
    "# ---------- 1. Paths ----------\n",
    "BASE_DIR = Path(\"../../../dataset/pyszz_v2/json-output-raw\")\n",
    "INPUT_FILE  = BASE_DIR / \"rq1\" / \"developer-informed-oracle\" / \"dio_bic_conf_4token.json\"\n",
    "OUTPUT_FILE_1 = BASE_DIR / \"rq2\" / \"developer-informed-oracle\" / \"dio_bic_conf_4token_mv.json\"\n",
    "OUTPUT_FILE_2 = BASE_DIR / \"rq3\" / \"developer-informed-oracle\" / \"dio_bic_conf_4token_mv.json\"\n",
    "OUTPUT_FILE_3 = BASE_DIR / \"discussion\" / \"developer-informed-oracle\" / \"dio_bic_conf_4token_mv_select.json\"\n",
    "\n",
    "print(\"Input :\", INPUT_FILE.resolve())\n",
    "print(\"Output:\", OUTPUT_FILE_1.resolve())\n",
    "print(\"Output:\", OUTPUT_FILE_2.resolve())\n",
    "print(\"Output:\", OUTPUT_FILE_3.resolve())\n",
    "\n",
    "# ---------- 2. Load ----------\n",
    "with INPUT_FILE.open(encoding=\"utf-8\") as f:\n",
    "    data = json.load(f)\n",
    "\n",
    "# ---------- 3. Filter ----------\n",
    "filtered_data = filter_inducing_commit_hashes(data)\n",
    "print(f\"Processed {len(data):,} entries → {len(filtered_data):,} entries\")\n",
    "\n",
    "# ---------- 4. Save ----------\n",
    "OUTPUT_FILE_1.parent.mkdir(parents=True, exist_ok=True)\n",
    "with OUTPUT_FILE_1.open(\"w\", encoding=\"utf-8\", errors=\"backslashreplace\") as f:\n",
    "    json.dump(filtered_data, f, ensure_ascii=False, indent=2)\n",
    "\n",
    "OUTPUT_FILE_2.parent.mkdir(parents=True, exist_ok=True)\n",
    "with OUTPUT_FILE_2.open(\"w\", encoding=\"utf-8\", errors=\"backslashreplace\") as f:\n",
    "    json.dump(filtered_data, f, ensure_ascii=False, indent=2)\n",
    "\n",
    "OUTPUT_FILE_3.parent.mkdir(parents=True, exist_ok=True)\n",
    "with OUTPUT_FILE_3.open(\"w\", encoding=\"utf-8\", errors=\"backslashreplace\") as f:\n",
    "    json.dump(filtered_data, f, ensure_ascii=False, indent=2)\n",
    "\n",
    "print(\"✓ File saved successfully.\")"
   ]
  },
  {
   "cell_type": "markdown",
   "id": "c46a4f94",
   "metadata": {},
   "source": [
    "### 5token: RQ2, Discussion"
   ]
  },
  {
   "cell_type": "code",
   "execution_count": 7,
   "id": "83e84ff1",
   "metadata": {},
   "outputs": [
    {
     "name": "stdout",
     "output_type": "stream",
     "text": [
      "Input : /local2/i-kondo/szz/majority-voting-szz-replication-package/dataset/pyszz_v2/json-output-raw/rq1/developer-informed-oracle/dio_bic_conf_5token.json\n",
      "Output: /local2/i-kondo/szz/majority-voting-szz-replication-package/dataset/pyszz_v2/json-output-raw/rq2/developer-informed-oracle/dio_bic_conf_5token_mv.json\n",
      "Output: /local2/i-kondo/szz/majority-voting-szz-replication-package/dataset/pyszz_v2/json-output-raw/discussion/developer-informed-oracle/dio_bic_conf_5token_mv_select.json\n",
      "Processed 76 entries → 76 entries\n"
     ]
    },
    {
     "name": "stdout",
     "output_type": "stream",
     "text": [
      "✓ File saved successfully.\n"
     ]
    }
   ],
   "source": [
    "# ---------- 1. Paths ----------\n",
    "BASE_DIR = Path(\"../../../dataset/pyszz_v2/json-output-raw\")\n",
    "INPUT_FILE  = BASE_DIR / \"rq1\" / \"developer-informed-oracle\" / \"dio_bic_conf_5token.json\"\n",
    "OUTPUT_FILE_1 = BASE_DIR / \"rq2\" / \"developer-informed-oracle\" / \"dio_bic_conf_5token_mv.json\"\n",
    "OUTPUT_FILE_2 = BASE_DIR / \"discussion\" / \"developer-informed-oracle\" / \"dio_bic_conf_5token_mv_select.json\"\n",
    "\n",
    "print(\"Input :\", INPUT_FILE.resolve())\n",
    "print(\"Output:\", OUTPUT_FILE_1.resolve())\n",
    "print(\"Output:\", OUTPUT_FILE_2.resolve())\n",
    "\n",
    "# ---------- 2. Load ----------\n",
    "with INPUT_FILE.open(encoding=\"utf-8\") as f:\n",
    "    data = json.load(f)\n",
    "\n",
    "# ---------- 3. Filter ----------\n",
    "filtered_data = filter_inducing_commit_hashes(data)\n",
    "print(f\"Processed {len(data):,} entries → {len(filtered_data):,} entries\")\n",
    "\n",
    "# ---------- 4. Save ----------\n",
    "OUTPUT_FILE_1.parent.mkdir(parents=True, exist_ok=True)\n",
    "with OUTPUT_FILE_1.open(\"w\", encoding=\"utf-8\", errors=\"backslashreplace\") as f:\n",
    "    json.dump(filtered_data, f, ensure_ascii=False, indent=2)\n",
    "\n",
    "OUTPUT_FILE_2.parent.mkdir(parents=True, exist_ok=True)\n",
    "with OUTPUT_FILE_2.open(\"w\", encoding=\"utf-8\", errors=\"backslashreplace\") as f:\n",
    "    json.dump(filtered_data, f, ensure_ascii=False, indent=2)\n",
    "\n",
    "print(\"✓ File saved successfully.\")"
   ]
  },
  {
   "cell_type": "markdown",
   "id": "7ee62065",
   "metadata": {},
   "source": [
    "## Defects4j"
   ]
  },
  {
   "cell_type": "markdown",
   "id": "4f8ac2d8",
   "metadata": {},
   "source": [
    "### original: RQ2"
   ]
  },
  {
   "cell_type": "code",
   "execution_count": 8,
   "id": "a909549f",
   "metadata": {},
   "outputs": [
    {
     "name": "stdout",
     "output_type": "stream",
     "text": [
      "Input : /local2/i-kondo/szz/majority-voting-szz-replication-package/dataset/pyszz_v2/json-output-raw/rq1/defects4j/d4j_bic_conf_original.json\n",
      "Output: /local2/i-kondo/szz/majority-voting-szz-replication-package/dataset/pyszz_v2/json-output-raw/rq2/defects4j/d4j_bic_conf_original_mv.json\n",
      "Processed 130 entries → 130 entries\n",
      "✓ File saved successfully.\n"
     ]
    }
   ],
   "source": [
    "# ---------- 1. Paths ----------\n",
    "BASE_DIR = Path(\"../../../dataset/pyszz_v2/json-output-raw\")\n",
    "INPUT_FILE  = BASE_DIR / \"rq1\" / \"defects4j\" / \"d4j_bic_conf_original.json\"\n",
    "OUTPUT_FILE = BASE_DIR / \"rq2\" / \"defects4j\" / \"d4j_bic_conf_original_mv.json\"\n",
    "\n",
    "print(\"Input :\", INPUT_FILE.resolve())\n",
    "print(\"Output:\", OUTPUT_FILE.resolve())\n",
    "\n",
    "# ---------- 2. Load ----------\n",
    "with INPUT_FILE.open(encoding=\"utf-8\") as f:\n",
    "    data = json.load(f)\n",
    "\n",
    "# ---------- 3. Filter ----------\n",
    "filtered_data = filter_inducing_commit_hashes(data)\n",
    "print(f\"Processed {len(data):,} entries → {len(filtered_data):,} entries\")\n",
    "\n",
    "# ---------- 4. Save ----------\n",
    "OUTPUT_FILE.parent.mkdir(parents=True, exist_ok=True)\n",
    "with OUTPUT_FILE.open(\"w\", encoding=\"utf-8\", errors=\"backslashreplace\") as f:\n",
    "    json.dump(filtered_data, f, ensure_ascii=False, indent=2)\n",
    "\n",
    "print(\"✓ File saved successfully.\")"
   ]
  },
  {
   "cell_type": "markdown",
   "id": "8673de7b",
   "metadata": {},
   "source": [
    "### 1token: RQ2"
   ]
  },
  {
   "cell_type": "code",
   "execution_count": 9,
   "id": "9e00fea3",
   "metadata": {},
   "outputs": [
    {
     "name": "stdout",
     "output_type": "stream",
     "text": [
      "Input : /local2/i-kondo/szz/majority-voting-szz-replication-package/dataset/pyszz_v2/json-output-raw/rq1/defects4j/d4j_bic_conf_1token.json\n",
      "Output: /local2/i-kondo/szz/majority-voting-szz-replication-package/dataset/pyszz_v2/json-output-raw/rq2/defects4j/d4j_bic_conf_1token_mv.json\n",
      "Processed 130 entries → 130 entries\n",
      "✓ File saved successfully.\n"
     ]
    }
   ],
   "source": [
    "# ---------- 1. Paths ----------\n",
    "BASE_DIR = Path(\"../../../dataset/pyszz_v2/json-output-raw\")\n",
    "INPUT_FILE  = BASE_DIR / \"rq1\" / \"defects4j\" / \"d4j_bic_conf_1token.json\"\n",
    "OUTPUT_FILE = BASE_DIR / \"rq2\" / \"defects4j\" / \"d4j_bic_conf_1token_mv.json\"\n",
    "\n",
    "print(\"Input :\", INPUT_FILE.resolve())\n",
    "print(\"Output:\", OUTPUT_FILE.resolve())\n",
    "\n",
    "# ---------- 2. Load ----------\n",
    "with INPUT_FILE.open(encoding=\"utf-8\") as f:\n",
    "    data = json.load(f)\n",
    "\n",
    "# ---------- 3. Filter ----------\n",
    "filtered_data = filter_inducing_commit_hashes(data)\n",
    "print(f\"Processed {len(data):,} entries → {len(filtered_data):,} entries\")\n",
    "\n",
    "# ---------- 4. Save ----------\n",
    "OUTPUT_FILE.parent.mkdir(parents=True, exist_ok=True)\n",
    "with OUTPUT_FILE.open(\"w\", encoding=\"utf-8\", errors=\"backslashreplace\") as f:\n",
    "    json.dump(filtered_data, f, ensure_ascii=False, indent=2)\n",
    "\n",
    "print(\"✓ File saved successfully.\")"
   ]
  },
  {
   "cell_type": "markdown",
   "id": "15d0c6a9",
   "metadata": {},
   "source": [
    "### 2token: RQ2"
   ]
  },
  {
   "cell_type": "code",
   "execution_count": 10,
   "id": "307ca6a6",
   "metadata": {},
   "outputs": [
    {
     "name": "stdout",
     "output_type": "stream",
     "text": [
      "Input : /local2/i-kondo/szz/majority-voting-szz-replication-package/dataset/pyszz_v2/json-output-raw/rq1/defects4j/d4j_bic_conf_2token.json\n",
      "Output: /local2/i-kondo/szz/majority-voting-szz-replication-package/dataset/pyszz_v2/json-output-raw/rq2/defects4j/d4j_bic_conf_2token_mv.json\n",
      "Processed 130 entries → 130 entries\n",
      "✓ File saved successfully.\n"
     ]
    }
   ],
   "source": [
    "# ---------- 1. Paths ----------\n",
    "BASE_DIR = Path(\"../../../dataset/pyszz_v2/json-output-raw\")\n",
    "INPUT_FILE  = BASE_DIR / \"rq1\" / \"defects4j\" / \"d4j_bic_conf_2token.json\"\n",
    "OUTPUT_FILE = BASE_DIR / \"rq2\" / \"defects4j\" / \"d4j_bic_conf_2token_mv.json\"\n",
    "\n",
    "print(\"Input :\", INPUT_FILE.resolve())\n",
    "print(\"Output:\", OUTPUT_FILE.resolve())\n",
    "\n",
    "# ---------- 2. Load ----------\n",
    "with INPUT_FILE.open(encoding=\"utf-8\") as f:\n",
    "    data = json.load(f)\n",
    "\n",
    "# ---------- 3. Filter ----------\n",
    "filtered_data = filter_inducing_commit_hashes(data)\n",
    "print(f\"Processed {len(data):,} entries → {len(filtered_data):,} entries\")\n",
    "\n",
    "# ---------- 4. Save ----------\n",
    "OUTPUT_FILE.parent.mkdir(parents=True, exist_ok=True)\n",
    "with OUTPUT_FILE.open(\"w\", encoding=\"utf-8\", errors=\"backslashreplace\") as f:\n",
    "    json.dump(filtered_data, f, ensure_ascii=False, indent=2)\n",
    "\n",
    "print(\"✓ File saved successfully.\")"
   ]
  },
  {
   "cell_type": "markdown",
   "id": "7c172fcf",
   "metadata": {},
   "source": [
    "### 3token: RQ2"
   ]
  },
  {
   "cell_type": "code",
   "execution_count": 11,
   "id": "8447c90d",
   "metadata": {},
   "outputs": [
    {
     "name": "stdout",
     "output_type": "stream",
     "text": [
      "Input : /local2/i-kondo/szz/majority-voting-szz-replication-package/dataset/pyszz_v2/json-output-raw/rq1/defects4j/d4j_bic_conf_3token.json\n",
      "Output: /local2/i-kondo/szz/majority-voting-szz-replication-package/dataset/pyszz_v2/json-output-raw/rq2/defects4j/d4j_bic_conf_3token_mv.json\n",
      "Processed 130 entries → 130 entries\n",
      "✓ File saved successfully.\n"
     ]
    }
   ],
   "source": [
    "# ---------- 1. Paths ----------\n",
    "BASE_DIR = Path(\"../../../dataset/pyszz_v2/json-output-raw\")\n",
    "INPUT_FILE  = BASE_DIR / \"rq1\" / \"defects4j\" / \"d4j_bic_conf_3token.json\"\n",
    "OUTPUT_FILE = BASE_DIR / \"rq2\" / \"defects4j\" / \"d4j_bic_conf_3token_mv.json\"\n",
    "\n",
    "print(\"Input :\", INPUT_FILE.resolve())\n",
    "print(\"Output:\", OUTPUT_FILE.resolve())\n",
    "\n",
    "# ---------- 2. Load ----------\n",
    "with INPUT_FILE.open(encoding=\"utf-8\") as f:\n",
    "    data = json.load(f)\n",
    "\n",
    "# ---------- 3. Filter ----------\n",
    "filtered_data = filter_inducing_commit_hashes(data)\n",
    "print(f\"Processed {len(data):,} entries → {len(filtered_data):,} entries\")\n",
    "\n",
    "# ---------- 4. Save ----------\n",
    "OUTPUT_FILE.parent.mkdir(parents=True, exist_ok=True)\n",
    "with OUTPUT_FILE.open(\"w\", encoding=\"utf-8\", errors=\"backslashreplace\") as f:\n",
    "    json.dump(filtered_data, f, ensure_ascii=False, indent=2)\n",
    "\n",
    "print(\"✓ File saved successfully.\")"
   ]
  },
  {
   "cell_type": "markdown",
   "id": "83b79f38",
   "metadata": {},
   "source": [
    "### 4token: RQ2, Discussion"
   ]
  },
  {
   "cell_type": "code",
   "execution_count": 12,
   "id": "50d9f6e6",
   "metadata": {},
   "outputs": [
    {
     "name": "stdout",
     "output_type": "stream",
     "text": [
      "Input : /local2/i-kondo/szz/majority-voting-szz-replication-package/dataset/pyszz_v2/json-output-raw/rq1/defects4j/d4j_bic_conf_4token.json\n",
      "Output: /local2/i-kondo/szz/majority-voting-szz-replication-package/dataset/pyszz_v2/json-output-raw/rq2/defects4j/d4j_bic_conf_4token_mv.json\n",
      "Output: /local2/i-kondo/szz/majority-voting-szz-replication-package/dataset/pyszz_v2/json-output-raw/discussion/defects4j/d4j_bic_conf_4token_mv_select.json\n",
      "Processed 130 entries → 130 entries\n"
     ]
    },
    {
     "name": "stdout",
     "output_type": "stream",
     "text": [
      "✓ File saved successfully.\n"
     ]
    }
   ],
   "source": [
    "# ---------- 1. Paths ----------\n",
    "BASE_DIR = Path(\"../../../dataset/pyszz_v2/json-output-raw\")\n",
    "INPUT_FILE  = BASE_DIR / \"rq1\" / \"defects4j\" / \"d4j_bic_conf_4token.json\"\n",
    "OUTPUT_FILE_1 = BASE_DIR / \"rq2\" / \"defects4j\" / \"d4j_bic_conf_4token_mv.json\"\n",
    "OUTPUT_FILE_2 = BASE_DIR / \"discussion\" / \"defects4j\" / \"d4j_bic_conf_4token_mv_select.json\"\n",
    "\n",
    "print(\"Input :\", INPUT_FILE.resolve())\n",
    "print(\"Output:\", OUTPUT_FILE_1.resolve())\n",
    "print(\"Output:\", OUTPUT_FILE_2.resolve())\n",
    "\n",
    "# ---------- 2. Load ----------\n",
    "with INPUT_FILE.open(encoding=\"utf-8\") as f:\n",
    "    data = json.load(f)\n",
    "\n",
    "# ---------- 3. Filter ----------\n",
    "filtered_data = filter_inducing_commit_hashes(data)\n",
    "print(f\"Processed {len(data):,} entries → {len(filtered_data):,} entries\")\n",
    "\n",
    "# ---------- 4. Save ----------\n",
    "OUTPUT_FILE_1.parent.mkdir(parents=True, exist_ok=True)\n",
    "with OUTPUT_FILE_1.open(\"w\", encoding=\"utf-8\", errors=\"backslashreplace\") as f:\n",
    "    json.dump(filtered_data, f, ensure_ascii=False, indent=2)\n",
    "\n",
    "OUTPUT_FILE_2.parent.mkdir(parents=True, exist_ok=True)\n",
    "with OUTPUT_FILE_2.open(\"w\", encoding=\"utf-8\", errors=\"backslashreplace\") as f:\n",
    "    json.dump(filtered_data, f, ensure_ascii=False, indent=2)\n",
    "\n",
    "print(\"✓ File saved successfully.\")"
   ]
  },
  {
   "cell_type": "markdown",
   "id": "f705f0b4",
   "metadata": {},
   "source": [
    "### 5token: RQ2, RQ3, Discussion"
   ]
  },
  {
   "cell_type": "code",
   "execution_count": 13,
   "id": "40a1a3e2",
   "metadata": {},
   "outputs": [
    {
     "name": "stdout",
     "output_type": "stream",
     "text": [
      "Input : /local2/i-kondo/szz/majority-voting-szz-replication-package/dataset/pyszz_v2/json-output-raw/rq1/defects4j/d4j_bic_conf_5token.json\n",
      "Output: /local2/i-kondo/szz/majority-voting-szz-replication-package/dataset/pyszz_v2/json-output-raw/rq2/defects4j/d4j_bic_conf_5token_mv.json\n",
      "Output: /local2/i-kondo/szz/majority-voting-szz-replication-package/dataset/pyszz_v2/json-output-raw/rq3/defects4j/d4j_bic_conf_5token_mv.json\n",
      "Output: /local2/i-kondo/szz/majority-voting-szz-replication-package/dataset/pyszz_v2/json-output-raw/discussion/defects4j/d4j_bic_conf_5token_mv_select.json\n",
      "Processed 130 entries → 130 entries\n"
     ]
    },
    {
     "name": "stdout",
     "output_type": "stream",
     "text": [
      "✓ File saved successfully.\n"
     ]
    }
   ],
   "source": [
    "# ---------- 1. Paths ----------\n",
    "BASE_DIR = Path(\"../../../dataset/pyszz_v2/json-output-raw\")\n",
    "INPUT_FILE  = BASE_DIR / \"rq1\" / \"defects4j\" / \"d4j_bic_conf_5token.json\"\n",
    "OUTPUT_FILE_1 = BASE_DIR / \"rq2\" / \"defects4j\" / \"d4j_bic_conf_5token_mv.json\"\n",
    "OUTPUT_FILE_2 = BASE_DIR / \"rq3\" / \"defects4j\" / \"d4j_bic_conf_5token_mv.json\"\n",
    "OUTPUT_FILE_3 = BASE_DIR / \"discussion\" / \"defects4j\" / \"d4j_bic_conf_5token_mv_select.json\"\n",
    "\n",
    "print(\"Input :\", INPUT_FILE.resolve())\n",
    "print(\"Output:\", OUTPUT_FILE_1.resolve())\n",
    "print(\"Output:\", OUTPUT_FILE_2.resolve())\n",
    "print(\"Output:\", OUTPUT_FILE_3.resolve())\n",
    "\n",
    "# ---------- 2. Load ----------\n",
    "with INPUT_FILE.open(encoding=\"utf-8\") as f:\n",
    "    data = json.load(f)\n",
    "\n",
    "# ---------- 3. Filter ----------\n",
    "filtered_data = filter_inducing_commit_hashes(data)\n",
    "print(f\"Processed {len(data):,} entries → {len(filtered_data):,} entries\")\n",
    "\n",
    "# ---------- 4. Save ----------\n",
    "OUTPUT_FILE_1.parent.mkdir(parents=True, exist_ok=True)\n",
    "with OUTPUT_FILE_1.open(\"w\", encoding=\"utf-8\", errors=\"backslashreplace\") as f:\n",
    "    json.dump(filtered_data, f, ensure_ascii=False, indent=2)\n",
    "\n",
    "OUTPUT_FILE_2.parent.mkdir(parents=True, exist_ok=True)\n",
    "with OUTPUT_FILE_2.open(\"w\", encoding=\"utf-8\", errors=\"backslashreplace\") as f:\n",
    "    json.dump(filtered_data, f, ensure_ascii=False, indent=2)\n",
    "\n",
    "OUTPUT_FILE_3.parent.mkdir(parents=True, exist_ok=True)\n",
    "with OUTPUT_FILE_3.open(\"w\", encoding=\"utf-8\", errors=\"backslashreplace\") as f:\n",
    "    json.dump(filtered_data, f, ensure_ascii=False, indent=2)\n",
    "\n",
    "print(\"✓ File saved successfully.\")"
   ]
  }
 ],
 "metadata": {
  "kernelspec": {
   "display_name": "Python 3",
   "language": "python",
   "name": "python3"
  },
  "language_info": {
   "codemirror_mode": {
    "name": "ipython",
    "version": 3
   },
   "file_extension": ".py",
   "mimetype": "text/x-python",
   "name": "python",
   "nbconvert_exporter": "python",
   "pygments_lexer": "ipython3",
   "version": "3.9.5"
  }
 },
 "nbformat": 4,
 "nbformat_minor": 5
}
