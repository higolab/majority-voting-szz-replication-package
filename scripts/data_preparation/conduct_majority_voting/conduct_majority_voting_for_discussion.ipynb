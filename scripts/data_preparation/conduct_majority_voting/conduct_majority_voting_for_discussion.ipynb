{
 "cells": [
  {
   "cell_type": "markdown",
   "id": "9872af70",
   "metadata": {},
   "source": [
    "# Majority Voting (All tied commits excluded)"
   ]
  },
  {
   "cell_type": "markdown",
   "id": "a35786b7",
   "metadata": {},
   "source": [
    "## Imports & Fuction Definition"
   ]
  },
  {
   "cell_type": "code",
   "execution_count": 1,
   "id": "c91f3ef4",
   "metadata": {},
   "outputs": [],
   "source": [
    "from pathlib import Path\n",
    "import json\n",
    "from collections import Counter\n",
    "from typing import List, Dict, Any\n",
    "\n",
    "def filter_inducing_commit_hashes_unique(data: List[Dict[str, Any]]) -> List[Dict[str, Any]]:\n",
    "    \"\"\"\n",
    "    Keep an item's 'inducing_commit_hash' list only when the most-frequent\n",
    "    commit_hash is unique.  If multiple hashes tie for top frequency,\n",
    "    the list is cleared.\n",
    "\n",
    "    Parameters\n",
    "    ----------\n",
    "    data : List[Dict]\n",
    "        Parsed JSON content.\n",
    "\n",
    "    Returns\n",
    "    -------\n",
    "    List[Dict]\n",
    "        Data with the 'inducing_commit_hash' field filtered per the rule above.\n",
    "    \"\"\"\n",
    "    result: List[Dict[str, Any]] = []\n",
    "    for entry in data:\n",
    "        hashes = entry.get(\"inducing_commit_hash\", [])\n",
    "        if not hashes:                         # no hashes → copy as-is\n",
    "            result.append(entry)\n",
    "            continue\n",
    "\n",
    "        counts     = Counter(h[\"commit_hash\"] for h in hashes)\n",
    "        max_freq   = max(counts.values())\n",
    "        top_hashes = [h for h, c in counts.items() if c == max_freq]\n",
    "\n",
    "        new_entry = entry.copy()\n",
    "        new_entry[\"inducing_commit_hash\"] = (\n",
    "            [h for h in hashes if h[\"commit_hash\"] == top_hashes[0]]\n",
    "            if len(top_hashes) == 1\n",
    "            else []                           # non-unique → empty list\n",
    "        )\n",
    "        result.append(new_entry)\n",
    "    return result\n"
   ]
  },
  {
   "cell_type": "markdown",
   "id": "60452459",
   "metadata": {},
   "source": [
    "## Execution + Save"
   ]
  },
  {
   "cell_type": "markdown",
   "id": "dfdbaa38",
   "metadata": {},
   "source": [
    "## Developer-informed oracle"
   ]
  },
  {
   "cell_type": "markdown",
   "id": "60ee9983",
   "metadata": {},
   "source": [
    "### 4token: Discussion"
   ]
  },
  {
   "cell_type": "code",
   "execution_count": 3,
   "id": "4f0f946a",
   "metadata": {},
   "outputs": [
    {
     "name": "stdout",
     "output_type": "stream",
     "text": [
      "Input : /local2/i-kondo/szz/majority-voting-szz-replication-package/dataset/pyszz_v2/json-output-raw/rq1/developer-informed-oracle/dio_bic_conf_4token.json\n",
      "Output: /local2/i-kondo/szz/majority-voting-szz-replication-package/dataset/pyszz_v2/json-output-raw/discussion/developer-informed-oracle/dio_bic_conf_4token_mv_exclude.json\n",
      "Processed 76 entries → 76 entries\n",
      "✓ File saved successfully.\n"
     ]
    }
   ],
   "source": [
    "# ---------- 1. Paths ----------\n",
    "BASE_DIR = Path(\"../../../dataset/pyszz_v2/json-output-raw\")\n",
    "INPUT_FILE  = BASE_DIR / \"rq1\" / \"developer-informed-oracle\" / \"dio_bic_conf_4token.json\"\n",
    "OUTPUT_FILE = BASE_DIR / \"discussion\" / \"developer-informed-oracle\" / \"dio_bic_conf_4token_mv_exclude.json\"\n",
    "\n",
    "print(\"Input :\", INPUT_FILE.resolve())\n",
    "print(\"Output:\", OUTPUT_FILE.resolve())\n",
    "\n",
    "# ---------- 2. Load ----------\n",
    "with INPUT_FILE.open(encoding=\"utf-8\") as f:\n",
    "    data = json.load(f)\n",
    "\n",
    "# ---------- 3. Filter ----------\n",
    "filtered_data = filter_inducing_commit_hashes_unique(data)\n",
    "print(f\"Processed {len(data):,} entries → {len(filtered_data):,} entries\")\n",
    "\n",
    "# ---------- 4. Save ----------\n",
    "OUTPUT_FILE.parent.mkdir(parents=True, exist_ok=True)\n",
    "with OUTPUT_FILE.open(\"w\", encoding=\"utf-8\", errors=\"backslashreplace\") as f:\n",
    "    json.dump(filtered_data, f, ensure_ascii=False, indent=2)\n",
    "\n",
    "print(\"✓ File saved successfully.\")"
   ]
  },
  {
   "cell_type": "markdown",
   "id": "60216dd3",
   "metadata": {},
   "source": [
    "### 5token: Discussion"
   ]
  },
  {
   "cell_type": "code",
   "execution_count": 4,
   "id": "127d6bdd",
   "metadata": {},
   "outputs": [
    {
     "name": "stdout",
     "output_type": "stream",
     "text": [
      "Input : /local2/i-kondo/szz/majority-voting-szz-replication-package/dataset/pyszz_v2/json-output-raw/rq1/developer-informed-oracle/dio_bic_conf_5token.json\n",
      "Output: /local2/i-kondo/szz/majority-voting-szz-replication-package/dataset/pyszz_v2/json-output-raw/discussion/developer-informed-oracle/dio_bic_conf_5token_mv_exclude.json\n",
      "Processed 76 entries → 76 entries\n",
      "✓ File saved successfully.\n"
     ]
    }
   ],
   "source": [
    "# ---------- 1. Paths ----------\n",
    "BASE_DIR = Path(\"../../../dataset/pyszz_v2/json-output-raw\")\n",
    "INPUT_FILE  = BASE_DIR / \"rq1\" / \"developer-informed-oracle\" / \"dio_bic_conf_5token.json\"\n",
    "OUTPUT_FILE = BASE_DIR / \"discussion\" / \"developer-informed-oracle\" / \"dio_bic_conf_5token_mv_exclude.json\"\n",
    "\n",
    "print(\"Input :\", INPUT_FILE.resolve())\n",
    "print(\"Output:\", OUTPUT_FILE.resolve())\n",
    "\n",
    "# ---------- 2. Load ----------\n",
    "with INPUT_FILE.open(encoding=\"utf-8\") as f:\n",
    "    data = json.load(f)\n",
    "\n",
    "# ---------- 3. Filter ----------\n",
    "filtered_data = filter_inducing_commit_hashes_unique(data)\n",
    "print(f\"Processed {len(data):,} entries → {len(filtered_data):,} entries\")\n",
    "\n",
    "# ---------- 4. Save ----------\n",
    "OUTPUT_FILE.parent.mkdir(parents=True, exist_ok=True)\n",
    "with OUTPUT_FILE.open(\"w\", encoding=\"utf-8\", errors=\"backslashreplace\") as f:\n",
    "    json.dump(filtered_data, f, ensure_ascii=False, indent=2)\n",
    "\n",
    "print(\"✓ File saved successfully.\")"
   ]
  },
  {
   "cell_type": "markdown",
   "id": "c5b49d34",
   "metadata": {},
   "source": [
    "## Defects4j"
   ]
  },
  {
   "cell_type": "markdown",
   "id": "fd0a832e",
   "metadata": {},
   "source": [
    "### 4token: Discussion"
   ]
  },
  {
   "cell_type": "code",
   "execution_count": null,
   "id": "0b6b9e1f",
   "metadata": {},
   "outputs": [],
   "source": [
    "# ---------- 1. Paths ----------\n",
    "BASE_DIR = Path(\"../../../dataset/pyszz_v2/json-output-raw\")\n",
    "INPUT_FILE  = BASE_DIR / \"rq1\" / \"defects4j\" / \"dio_bic_conf_4token.json\"\n",
    "OUTPUT_FILE = BASE_DIR / \"discussion\" / \"defects4j\" / \"dio_bic_conf_4token_mv_exclude.json\"\n",
    "\n",
    "print(\"Input :\", INPUT_FILE.resolve())\n",
    "print(\"Output:\", OUTPUT_FILE.resolve())\n",
    "\n",
    "# ---------- 2. Load ----------\n",
    "with INPUT_FILE.open(encoding=\"utf-8\") as f:\n",
    "    data = json.load(f)\n",
    "\n",
    "# ---------- 3. Filter ----------\n",
    "filtered_data = filter_inducing_commit_hashes_unique(data)\n",
    "print(f\"Processed {len(data):,} entries → {len(filtered_data):,} entries\")\n",
    "\n",
    "# ---------- 4. Save ----------\n",
    "OUTPUT_FILE.parent.mkdir(parents=True, exist_ok=True)\n",
    "with OUTPUT_FILE.open(\"w\", encoding=\"utf-8\", errors=\"backslashreplace\") as f:\n",
    "    json.dump(filtered_data, f, ensure_ascii=False, indent=2)\n",
    "\n",
    "print(\"✓ File saved successfully.\")"
   ]
  },
  {
   "cell_type": "markdown",
   "id": "af16f7ed",
   "metadata": {},
   "source": [
    "### 5token: Discussion"
   ]
  },
  {
   "cell_type": "code",
   "execution_count": null,
   "id": "8b6cff9b",
   "metadata": {},
   "outputs": [],
   "source": []
  }
 ],
 "metadata": {
  "kernelspec": {
   "display_name": "Python 3",
   "language": "python",
   "name": "python3"
  },
  "language_info": {
   "codemirror_mode": {
    "name": "ipython",
    "version": 3
   },
   "file_extension": ".py",
   "mimetype": "text/x-python",
   "name": "python",
   "nbconvert_exporter": "python",
   "pygments_lexer": "ipython3",
   "version": "3.9.5"
  }
 },
 "nbformat": 4,
 "nbformat_minor": 5
}
